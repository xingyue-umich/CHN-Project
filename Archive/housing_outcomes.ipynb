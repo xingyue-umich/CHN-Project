{
 "cells": [
  {
   "cell_type": "code",
   "execution_count": 33,
   "metadata": {},
   "outputs": [],
   "source": [
    "import os\n",
    "import pandas as pd\n",
    "\n",
    "folder_path = \"BoS (Business Objects) Raw Data Reports - Deidentified\"\n"
   ]
  },
  {
   "cell_type": "markdown",
   "metadata": {},
   "source": [
    "### Number of clients who exited to permanent housing\n"
   ]
  },
  {
   "cell_type": "code",
   "execution_count": 34,
   "metadata": {},
   "outputs": [
    {
     "name": "stdout",
     "output_type": "stream",
     "text": [
      "Program: OC | Total clients: 142 | Exited to permanent housing: 65\n",
      "Program: MC | Total clients: 71 | Exited to permanent housing: 22\n",
      "Program: SPC | Total clients: 58 | Exited to permanent housing: 0\n",
      "Program: 8319 | Total clients: 871 | Exited to permanent housing: 465\n",
      "Program: Erin | Total clients: 57 | Exited to permanent housing: 3\n",
      "Program: 143 | Total clients: 871 | Exited to permanent housing: 96\n",
      "Error processing ~$143 RAW Client Data Export v3_EE Workflow.xlsx: Excel file format cannot be determined, you must specify an engine manually.\n",
      "Program: 11495 | Total clients: 58 | Exited to permanent housing: 0\n",
      "Program: 1371 | Total clients: 299 | Exited to permanent housing: 50\n"
     ]
    }
   ],
   "source": [
    "# Define permanent housing values to count\n",
    "permanent_housing_values = [\n",
    "    'Rental by client, with ongoing housing subsidy (HUD)',\n",
    "    'Rental by client, no ongoing housing subsidy (HUD)',\n",
    "    'Owned by client, no ongoing housing subsidy (HUD)',\n",
    "    'Staying or living with family, permanent tenure (HUD)',\n",
    "    'Staying or living with friends, permanent tenure (HUD)'\n",
    "]\n",
    "\n",
    "# Process each file in the folder\n",
    "for file in os.listdir(folder_path):\n",
    "    if file == \"TEMPLATE RAW Client Data Export v3_EE Workflow.xlsx\":\n",
    "        continue  # Skip this specific file\n",
    "    \n",
    "    if file.endswith(\".xlsx\"):\n",
    "        file_path = os.path.join(folder_path, file)\n",
    "        \n",
    "        try:\n",
    "            # Load the dataframe for this file\n",
    "            df_housing = pd.read_excel(file_path, sheet_name=\"ENTRY-EXIT\")\n",
    "            total_clients = len(df_housing)\n",
    "            \n",
    "            if 'Destination' not in df_housing.columns:\n",
    "                print(f\"File: {file} | Column 'Destination' not found.\")\n",
    "                continue\n",
    "            \n",
    "            # Count only specific permanent housing values\n",
    "            permanent_housing_mask = df_housing['Destination'].isin(permanent_housing_values)\n",
    "            num_permanent_housing = permanent_housing_mask.sum()\n",
    "            \n",
    "            # Extract program ID from filename (assuming it's at the beginning)\n",
    "            program_id = file.split(' ')[0]\n",
    "            \n",
    "            # Print results for this file\n",
    "            print(f\"Program: {program_id} | Total clients: {total_clients} | Exited to permanent housing: {num_permanent_housing}\")\n",
    "        \n",
    "        except Exception as e:\n",
    "            print(f\"Error processing {file}: {e}\")"
   ]
  },
  {
   "cell_type": "code",
   "execution_count": 35,
   "metadata": {},
   "outputs": [
    {
     "name": "stdout",
     "output_type": "stream",
     "text": [
      "Processed: OC PATH RAW Client Data Export v3_EE Workflow.xlsx\n",
      "Processed: MC PATH RAW Client Data Export v3_EE Workflow.xlsx\n",
      "Processed: SPC RAW Client Data Export v3_EE Workflow.xlsx\n",
      "Processed: 8319 RAW Client Data Export v3_EE Workflow.xlsx\n",
      "Processed: Erin Park RAW Client Data Export v3_EE Workflow.xlsx\n",
      "Processed: 143 RAW Client Data Export v3_EE Workflow.xlsx\n",
      "Error processing ~$143 RAW Client Data Export v3_EE Workflow.xlsx: Excel file format cannot be determined, you must specify an engine manually.\n",
      "Processed: 11495 RAW Client Data Export v3_EE Workflow.xlsx\n",
      "Processed: 1371 FINAL RAW Client Data Export v3_EE Workflow.xlsx\n"
     ]
    }
   ],
   "source": [
    "# Define permanent housing values to count\n",
    "permanent_housing_values = [\n",
    "    'Rental by client, with ongoing housing subsidy (HUD)',\n",
    "    'Rental by client, no ongoing housing subsidy (HUD)',\n",
    "    'Owned by client, no ongoing housing subsidy (HUD)',\n",
    "    'Owned by client, with ongoing housing subsidy (HUD)',\n",
    "    'Long-term care facility or nursing home (HUD)',\n",
    "    'Staying or living with family, permanent tenure (HUD)',\n",
    "    'Staying or living with friends, permanent tenure (HUD)'\n",
    "]\n",
    "\n",
    "# Create a list to store results\n",
    "results = []\n",
    "\n",
    "# Process each file in the folder\n",
    "for file in os.listdir(folder_path):\n",
    "    if file == \"TEMPLATE RAW Client Data Export v3_EE Workflow.xlsx\":\n",
    "        continue  # Skip this specific file\n",
    "    \n",
    "    if file.endswith(\".xlsx\"):\n",
    "        file_path = os.path.join(folder_path, file)\n",
    "        \n",
    "        try:\n",
    "            # Load the dataframe for this file\n",
    "            df_housing = pd.read_excel(file_path, sheet_name=\"ENTRY-EXIT\")\n",
    "            total_clients = len(df_housing)\n",
    "            \n",
    "            # Extract program name from filename (before the word RAW)\n",
    "            program_parts = file.split('RAW')[0].strip()\n",
    "            \n",
    "            if 'Destination' not in df_housing.columns:\n",
    "                print(f\"File: {file} | Column 'Destination' not found.\")\n",
    "                continue\n",
    "            \n",
    "            # Count only specific permanent housing values\n",
    "            permanent_housing_mask = df_housing['Destination'].isin(permanent_housing_values)\n",
    "            num_permanent_housing = permanent_housing_mask.sum()\n",
    "            \n",
    "            # Store results\n",
    "            results.append({\n",
    "                'Program': program_parts,\n",
    "                'Total Clients': total_clients,\n",
    "                'Permanent Housing Count': num_permanent_housing\n",
    "            })\n",
    "            \n",
    "            print(f\"Processed: {file}\")\n",
    "        \n",
    "        except Exception as e:\n",
    "            print(f\"Error processing {file}: {e}\")"
   ]
  },
  {
   "cell_type": "code",
   "execution_count": 36,
   "metadata": {},
   "outputs": [
    {
     "name": "stdout",
     "output_type": "stream",
     "text": [
      "Results saved to BoSClean/Permanent_Housing_Count.xlsx\n"
     ]
    }
   ],
   "source": [
    "# Create a DataFrame from the results\n",
    "results_df = pd.DataFrame(results)\n",
    "\n",
    "# Save to Excel\n",
    "output_path = os.path.join('BoSClean', \"Permanent_Housing_Count.xlsx\")\n",
    "results_df.to_excel(output_path, index=False)\n",
    "\n",
    "print(f\"Results saved to {output_path}\")"
   ]
  },
  {
   "cell_type": "markdown",
   "metadata": {},
   "source": [
    "### Breakdown of exit destinations (permanent housing, shelter, streets, etc.)"
   ]
  },
  {
   "cell_type": "code",
   "execution_count": 37,
   "metadata": {},
   "outputs": [
    {
     "name": "stdout",
     "output_type": "stream",
     "text": [
      "Processed: OC PATH RAW Client Data Export v3_EE Workflow.xlsx\n",
      "Processed: MC PATH RAW Client Data Export v3_EE Workflow.xlsx\n",
      "Processed: SPC RAW Client Data Export v3_EE Workflow.xlsx\n",
      "Processed: 8319 RAW Client Data Export v3_EE Workflow.xlsx\n",
      "Processed: Erin Park RAW Client Data Export v3_EE Workflow.xlsx\n",
      "Processed: 143 RAW Client Data Export v3_EE Workflow.xlsx\n",
      "Error processing ~$143 RAW Client Data Export v3_EE Workflow.xlsx: Excel file format cannot be determined, you must specify an engine manually.\n",
      "Processed: 11495 RAW Client Data Export v3_EE Workflow.xlsx\n",
      "Processed: 1371 FINAL RAW Client Data Export v3_EE Workflow.xlsx\n"
     ]
    }
   ],
   "source": [
    "# Create a list to store results\n",
    "destination_counts = []\n",
    "\n",
    "# Process each file in the folder\n",
    "for file in os.listdir(folder_path):\n",
    "    if file == \"TEMPLATE RAW Client Data Export v3_EE Workflow.xlsx\":\n",
    "        continue  # Skip this specific file\n",
    "    \n",
    "    if file.endswith(\".xlsx\"):\n",
    "        file_path = os.path.join(folder_path, file)\n",
    "        \n",
    "        try:\n",
    "            # Load the dataframe for this file\n",
    "            df_housing = pd.read_excel(file_path, sheet_name=\"ENTRY-EXIT\")\n",
    "            \n",
    "            # Extract program ID from filename (before the word RAW)\n",
    "            program_id = file.split('RAW')[0].strip()\n",
    "            \n",
    "            if 'Destination' not in df_housing.columns:\n",
    "                print(f\"File: {file} | Column 'Destination' not found.\")\n",
    "                continue\n",
    "            \n",
    "            # Get value counts for all destinations\n",
    "            counts = df_housing['Destination'].value_counts().reset_index()\n",
    "            counts.columns = ['Exit Destination', 'Count']\n",
    "            counts['Program ID'] = program_id\n",
    "            \n",
    "            # Reorder columns to match your screenshot\n",
    "            counts = counts[['Program ID', 'Exit Destination', 'Count']]\n",
    "            \n",
    "            # Append all counts for this program to our results\n",
    "            destination_counts.extend(counts.to_dict('records'))\n",
    "            \n",
    "            print(f\"Processed: {file}\")\n",
    "        \n",
    "        except Exception as e:\n",
    "            print(f\"Error processing {file}: {e}\")"
   ]
  },
  {
   "cell_type": "code",
   "execution_count": 38,
   "metadata": {},
   "outputs": [
    {
     "name": "stdout",
     "output_type": "stream",
     "text": [
      "Results saved to BoSClean/destination_value_counts.xlsx\n"
     ]
    }
   ],
   "source": [
    "# Create a DataFrame from the results\n",
    "results_df = pd.DataFrame(destination_counts)\n",
    "\n",
    "# Save to Excel\n",
    "output_path = os.path.join('BoSClean', \"destination_value_counts.xlsx\")\n",
    "results_df.to_excel(output_path, index=False)\n",
    "\n",
    "print(f\"Results saved to {output_path}\")"
   ]
  },
  {
   "cell_type": "code",
   "execution_count": 42,
   "metadata": {},
   "outputs": [],
   "source": [
    "# Read the original data\n",
    "input_file = \"destination_value_counts.xlsx\"\n",
    "\n",
    "# Load the data\n",
    "df = pd.read_excel(input_file)\n",
    "\n",
    "# Get top 3 destinations for each program\n",
    "top3_df = (df.sort_values(['Program ID', 'Count'], ascending=[True, False])\n",
    "           .groupby('Program ID')\n",
    "           .head(3)\n",
    "           .reset_index(drop=True))\n",
    "\n",
    "# Pivot the data to have Program ID in one column and destinations in separate columns\n",
    "final_df = top3_df.assign(rank=top3_df.groupby('Program ID').cumcount()+1) \\\n",
    "                .pivot(index='Program ID', columns='rank') \\\n",
    "                .reset_index()\n",
    "\n",
    "# Flatten multi-index columns\n",
    "final_df.columns = ['Program ID'] + \\\n",
    "                 [f'Destination {i}' for i in range(1,4)] + \\\n",
    "                 [f'Count {i}' for i in range(1,4)]\n",
    "\n",
    "# Save to new Excel file\n",
    "output_path = os.path.join('BoSClean', \"program_top_destinations.xlsx\")\n",
    "final_df.to_excel(output_path, index=False)"
   ]
  },
  {
   "cell_type": "markdown",
   "metadata": {},
   "source": [
    "### Average length of time to housing move-in "
   ]
  },
  {
   "cell_type": "code",
   "execution_count": 40,
   "metadata": {},
   "outputs": [
    {
     "name": "stdout",
     "output_type": "stream",
     "text": [
      "Processed OC PATH RAW Client Data Export v3_EE Workflow.xlsx: 23 valid cases\n",
      "Processed MC PATH RAW Client Data Export v3_EE Workflow.xlsx: 1 valid cases\n",
      "Processed SPC RAW Client Data Export v3_EE Workflow.xlsx: 34 valid cases\n",
      "Processed 8319 RAW Client Data Export v3_EE Workflow.xlsx: 170 valid cases\n",
      "Processed Erin Park RAW Client Data Export v3_EE Workflow.xlsx: 1 valid cases\n",
      "Processed 143 RAW Client Data Export v3_EE Workflow.xlsx: 405 valid cases\n",
      "Error processing ~$143 RAW Client Data Export v3_EE Workflow.xlsx: Excel file format cannot be determined, you must specify an engine manually.\n",
      "Processed 11495 RAW Client Data Export v3_EE Workflow.xlsx: 48 valid cases\n",
      "Processed 1371 FINAL RAW Client Data Export v3_EE Workflow.xlsx: 68 valid cases\n"
     ]
    }
   ],
   "source": [
    "# Create a list to store results\n",
    "results = []\n",
    "\n",
    "# Process each file\n",
    "for file in os.listdir(folder_path):\n",
    "    if file == \"TEMPLATE RAW Client Data Export v3_EE Workflow.xlsx\":\n",
    "        continue\n",
    "    \n",
    "    if file.endswith(\".xlsx\"):\n",
    "        file_path = os.path.join(folder_path, file)\n",
    "        \n",
    "        try:\n",
    "            # Load only the ENTRY-EXIT sheet\n",
    "            df = pd.read_excel(file_path, sheet_name=\"ENTRY-EXIT\")\n",
    "            \n",
    "            # Get program ID from filename\n",
    "            program_id = file.split('RAW')[0].strip()\n",
    "            \n",
    "            # Convert dates\n",
    "            df['Entry Date'] = pd.to_datetime(df['Entry Date'], errors='coerce')\n",
    "            df['Housing Move-in Date'] = pd.to_datetime(df['Housing Move-in Date(12855)'], errors='coerce')\n",
    "            \n",
    "            # Calculate days to move-in\n",
    "            df['Days_to_MoveIn'] = (df['Housing Move-in Date'] - df['Entry Date']).dt.days\n",
    "            \n",
    "            # Filter valid cases (positive days and has move-in date)\n",
    "            valid_cases = df[\n",
    "                (df['Days_to_MoveIn'] > 0) & \n",
    "                (df['Housing Move-in Date'].notna())\n",
    "            ]\n",
    "            \n",
    "            # Calculate average days for this program\n",
    "            avg_days = valid_cases['Days_to_MoveIn'].mean()\n",
    "            \n",
    "            # Store results for each valid case\n",
    "            for days in valid_cases['Days_to_MoveIn']:\n",
    "                results.append({\n",
    "                    'Program ID': program_id,\n",
    "                    'Days to Move In': days,\n",
    "                    'Average Days to Move In': avg_days\n",
    "                })\n",
    "            \n",
    "            print(f\"Processed {file}: {len(valid_cases)} valid cases\")\n",
    "            \n",
    "        except Exception as e:\n",
    "            print(f\"Error processing {file}: {e}\")"
   ]
  },
  {
   "cell_type": "code",
   "execution_count": 41,
   "metadata": {},
   "outputs": [
    {
     "name": "stdout",
     "output_type": "stream",
     "text": [
      "Results saved to BoSClean/days_to_movein_filtered.xlsx\n"
     ]
    }
   ],
   "source": [
    "if results:\n",
    "    results_df = pd.DataFrame(results)\n",
    "\n",
    "# Save to Excel\n",
    "output_path = os.path.join('BoSClean', \"days_to_movein_filtered.xlsx\")\n",
    "results_df.to_excel(output_path, index=False)\n",
    "\n",
    "print(f\"Results saved to {output_path}\")"
   ]
  }
 ],
 "metadata": {
  "kernelspec": {
   "display_name": "Python 3",
   "language": "python",
   "name": "python3"
  },
  "language_info": {
   "codemirror_mode": {
    "name": "ipython",
    "version": 3
   },
   "file_extension": ".py",
   "mimetype": "text/x-python",
   "name": "python",
   "nbconvert_exporter": "python",
   "pygments_lexer": "ipython3",
   "version": "3.12.5"
  }
 },
 "nbformat": 4,
 "nbformat_minor": 2
}
