{
 "cells": [
  {
   "cell_type": "code",
   "execution_count": 15,
   "metadata": {},
   "outputs": [],
   "source": [
    "import camelot\n",
    "import pandas as pd"
   ]
  },
  {
   "cell_type": "code",
   "execution_count": 23,
   "metadata": {},
   "outputs": [],
   "source": [
    "pdf_path = \"./CoC APRs from HMIS/143 CoC APR for CARF.pdf\"\n",
    "page_num = '12' # 1-based"
   ]
  },
  {
   "cell_type": "code",
   "execution_count": 24,
   "metadata": {},
   "outputs": [],
   "source": [
    "# Helper function\n",
    "# Function to clean \"I\" and any other trailing characters\n",
    "def clean_cell(cell):\n",
    "    if isinstance(cell, str):\n",
    "        # Remove any standalone or trailing 'I' (including space before it)\n",
    "        return cell.replace(' I', '').replace('I ', '').replace('I', '').strip()\n",
    "    return cell"
   ]
  },
  {
   "cell_type": "code",
   "execution_count": 25,
   "metadata": {},
   "outputs": [
    {
     "name": "stdout",
     "output_type": "stream",
     "text": [
      "Found 3 tables\n",
      "============== TABLE 1 ==============\n",
      "                                                                       0   1   2  3\n",
      "                                                                                   \n",
      "                             Adults  with  Missing ncome nformation \\n35       0  0\n",
      "Number of  adult stayers  not yet required to  have an annual assessment     102   \n",
      "            Number of  adult stayers without  required annual assessment     110   \n",
      "                                                            Total Adults 474 386 88\n",
      "                                               1 or More Source of ncome 193 101 41\n",
      "       Adults  with ncome nformation  at Start and Annual AssessmenVExit     174 86\n",
      "============== TABLE 2 ==============\n",
      "                                                                                                                              0                                                                           1                                                                                    2                                                                               3                                                                     4                                                                                                          5                                                                         6                                                7                                                                                                                    8                                                                               9\n",
      "                                                      19a1 • Client Cashncome Change •ncome Source • by Start and Latest Status                                                                                                                                                                                                                                                                                                                                                                                                                                                                                                                                                                                                                                                                                                                                                                  \n",
      "ncome Change \\nbyncome \\nCategory \\n(Universe: Adult \\nStayers with \\nncome \\nnformation  at \\nStart and \\nAnnual \\nAssessment) Hadncome \\nCategory at \\nStart and Did \\nNot Havet at \\nAnnual \\nAssessment Retained \\nncome \\nCategory But \\nHad Less $at \\nAnnual \\nAssessment \\nThan at Start Retained \\nncome \\nCategory and \\nSame $at \\nAnnual \\nAssessment  as \\nat Start Retained \\nncome \\nCategory and \\nncreased $ at \\nAnnual \\nAssessment Did Not Have \\nthencome \\nCategory at \\nStart and \\nGained the \\nncome \\nCategory at \\nAnnual \\nAssessment Did Not Have \\nthencome \\nCategory at \\nStart or at \\nAnnual \\nAssessment Total Adults \\n(including  those \\nwith Noncome) Performance \\nMeasure: Adults \\nwho Gained or \\nncreased \\nncome from \\nStart to Annual \\nAssessment, \\nAverage Gain Performance \\nmeasure: \\nPercent of \\nPersons who \\nAccomplished \\nthis Measure\n",
      "                                                          Number of \\nAdults  with \\nEarnedncome \\n(i.e., \\nEmployment \\nncome)                                                                          11                                                                                    0                                                                               0                                                                     8                                                                                                         12                                                                 143 \\n174                                                                                                                                                                    20                                                                             11%\n",
      "                                                                                             Average Change \\nin Earned \\nncome                                                                       -1113                                                                                                                                                                                                                                        989                                                                                                       1273                                                                                                                                                                                                                                            1160                                                                                \n",
      "                                                                                          Number of \\nAdults  with \\nOtherncome                                                                           5                                                                                   12                                                                               4                                                                    45                                                                                                         25                                                                  83 \\n174                                                                                                                                                                    70                                                                             40%\n",
      "                                                                                                 Average Change \\nin Otherncome                                                                        .759                                                                                 -391                                                                                                                                                   302                                                                                                       1049                                                                                                                                                                                                                                             569                                                                                \n",
      "                                                                    Number of \\nAdults  with  Any \\nncome  (i.e., \\nTotalncome)                                                                          10                                                                                   14                                                                               3                                                                    55                                                                                                         30                                                                        62                                              174                                                                                                                   85                                                                             49%\n",
      "                                                                                            Average Change \\nin Overall \\nncome                                                                        -926                                                                                 -503                                                                                                                                                   461                                                                                                       1135                                                                                                                        247                                                                                                                  699                                                                                \n",
      "============== TABLE 3 ==============\n",
      "                                                                                                              0                                                            1                                                                      2                                                              3                                                      4                                                                                          5                                                        6                                              7                                                                                                     8                                                                               9\n",
      "                                               19a2 • Client Cashncome Change •ncome Source • by Start and Exit                                                                                                                                                                                                                                                                                                                                                                                                                                                                                                                                                                                                                                                   \n",
      "ncome Change \\nbyncome \\nCategory \\n(Universe: Adult \\nleavers  with \\nncome \\nnformation  at \\nStart and Exit) Hadncome \\nCategory at \\nStart and Did \\nNot Havet at \\nExit Retained \\nncome \\nCategory But \\nHad less  $at \\nExit Than at \\nStart Retained \\nncome \\nCategory and \\nSame $ at Exit \\nas at Start Retained \\nncome \\nCategory and \\nncreased $ at \\nExit Did Not Have \\nthencome \\nCategory at \\nStart and \\nGained the \\nncome \\nCategory at  Exit Did Not Have \\nthencome \\nCategory at \\nStart or at Exit Total Adults \\n(ncluding those \\nwith Noncome) Performance \\nMeasure: Adults \\nwho Gained or \\nncreased \\nncome from \\nStart to Exit, \\nAverage Gain Performance \\nmeasure: \\nPercent of \\nPersons who \\nAccomplished \\nthis Measure\n",
      "                                          Number of \\nAdults  with \\nEarnedncome \\n(i.e., \\nEmployment \\nncome)                                                            0                                                                      0                                                              6                                                      0                                                                                          4                                                  75 \\n86                                                                                                                                                    4                                                                              5%\n",
      "                                                                             Average Change \\nin Earned \\nncome                                                                                                                                                                                                                                                                                                                                                 1968                                                                                                                                                                                                          1968                                                                                \n",
      "                                                                          Number of \\nAdults  with \\nOtherncome                                                            0                                                                      2                                                             14                                                      8                                                                                          6                                                  86 \\n55                                                                                                                                                   14                                                                             16%\n",
      "                                                                                 Average Change \\nin Otherncome                                                                                                                                 -91                                                                                                                   267                                                                                        864                                                                                                                                                                                                           523                                                                                \n",
      "                                                    Number of \\nAdults  with  Any \\nncome  (i.e., \\nTotalncome)                                                            0                                                                      2                                                             19                                                      8                                                                                         10                                                       46                                             86                                                                                                    18                                                                             21%\n",
      "                                                                            Average Change \\nin Overall \\nncome                                                                                                                                 -91                                                                                                                                                                                                      267  1 1306                                                                                                     174                                                                                                   844                                                                                \n"
     ]
    },
    {
     "name": "stderr",
     "output_type": "stream",
     "text": [
      "/var/folders/0w/x25bvrpd0dl6xxv4xp_h7rmm0000gn/T/ipykernel_10157/774707770.py:10: FutureWarning: DataFrame.applymap has been deprecated. Use DataFrame.map instead.\n",
      "  df = table.df.applymap(clean_cell)\n",
      "/var/folders/0w/x25bvrpd0dl6xxv4xp_h7rmm0000gn/T/ipykernel_10157/774707770.py:10: FutureWarning: DataFrame.applymap has been deprecated. Use DataFrame.map instead.\n",
      "  df = table.df.applymap(clean_cell)\n",
      "/var/folders/0w/x25bvrpd0dl6xxv4xp_h7rmm0000gn/T/ipykernel_10157/774707770.py:10: FutureWarning: DataFrame.applymap has been deprecated. Use DataFrame.map instead.\n",
      "  df = table.df.applymap(clean_cell)\n"
     ]
    }
   ],
   "source": [
    "# Extract tables from page 12 (Camelot page numbers start from 1)\n",
    "tables = camelot.read_pdf(pdf_path, pages='12')\n",
    "\n",
    "# Print number of tables found\n",
    "print(f\"Found {tables.n} tables\")\n",
    "\n",
    "# Loop and display each table\n",
    "for i, table in enumerate(tables):\n",
    "    print(f\"============== TABLE {i + 1} ==============\")\n",
    "    df = table.df.applymap(clean_cell)\n",
    "\n",
    "    # print(df)\n",
    "    print(df.to_string(index=False))\n",
    "\n",
    "    # Export each table to CSV\n",
    "    df.to_csv(f\"camelot_table_{i + 1}.csv\", index=False)"
   ]
  }
 ],
 "metadata": {
  "kernelspec": {
   "display_name": "Python 3",
   "language": "python",
   "name": "python3"
  },
  "language_info": {
   "codemirror_mode": {
    "name": "ipython",
    "version": 3
   },
   "file_extension": ".py",
   "mimetype": "text/x-python",
   "name": "python",
   "nbconvert_exporter": "python",
   "pygments_lexer": "ipython3",
   "version": "3.13.1"
  }
 },
 "nbformat": 4,
 "nbformat_minor": 2
}
