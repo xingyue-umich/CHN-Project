{
 "cells": [
  {
   "cell_type": "code",
   "execution_count": 106,
   "metadata": {},
   "outputs": [],
   "source": [
    "import camelot\n",
    "import pandas as pd"
   ]
  },
  {
   "cell_type": "code",
   "execution_count": 107,
   "metadata": {},
   "outputs": [],
   "source": [
    "pdf_path = \"../CoC APRs from HMIS/1371 CoC APR for CARF.pdf\"\n",
    "page_num = '10' # 1-based"
   ]
  },
  {
   "cell_type": "code",
   "execution_count": 108,
   "metadata": {},
   "outputs": [],
   "source": [
    "# Helper function\n",
    "# Function to clean \"I\" and any other trailing characters\n",
    "def clean_cell(cell):\n",
    "    if isinstance(cell, str):\n",
    "        # Remove any standalone or trailing 'I' (including space before it)\n",
    "        return cell.replace(' I', '').replace('I ', '').replace('I', '').strip()\n",
    "    return cell"
   ]
  },
  {
   "cell_type": "code",
   "execution_count": 109,
   "metadata": {},
   "outputs": [
    {
     "name": "stdout",
     "output_type": "stream",
     "text": [
      "Found 0 tables\n"
     ]
    },
    {
     "name": "stderr",
     "output_type": "stream",
     "text": [
      "/Users/sherryzhang/Documents/Courses/SI699/venv/lib/python3.13/site-packages/camelot/parsers/base.py:218: UserWarning: No tables found on page-10\n",
      "  if self._document_has_no_text():\n"
     ]
    }
   ],
   "source": [
    "# Extract tables from page 12 (Camelot page numbers start from 1)\n",
    "tables = camelot.read_pdf(pdf_path, flavor= \"stream\", pages=page_num)\n",
    "\n",
    "# Print number of tables found\n",
    "print(f\"Found {tables.n} tables\")\n",
    "\n",
    "# Loop and display each table\n",
    "for i, table in enumerate(tables):\n",
    "    print(f\"============== TABLE {i + 1} ==============\")\n",
    "    df = table.df.applymap(clean_cell)\n",
    "    # print(df)\n",
    "    print(df.to_string(index=False))\n",
    "\n",
    "    # Export each table to CSV\n",
    "    df.to_csv(f\"page{page_num}_{i + 1}.csv\", index=False)"
   ]
  },
  {
   "cell_type": "code",
   "execution_count": null,
   "metadata": {},
   "outputs": [],
   "source": []
  }
 ],
 "metadata": {
  "kernelspec": {
   "display_name": "venv",
   "language": "python",
   "name": "python3"
  },
  "language_info": {
   "codemirror_mode": {
    "name": "ipython",
    "version": 3
   },
   "file_extension": ".py",
   "mimetype": "text/x-python",
   "name": "python",
   "nbconvert_exporter": "python",
   "pygments_lexer": "ipython3",
   "version": "3.13.2"
  }
 },
 "nbformat": 4,
 "nbformat_minor": 2
}
