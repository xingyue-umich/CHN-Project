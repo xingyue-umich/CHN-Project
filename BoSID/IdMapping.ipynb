{
 "cells": [
  {
   "cell_type": "code",
   "execution_count": 16,
   "metadata": {},
   "outputs": [],
   "source": [
    "import pandas as pd\n",
    "import os\n",
    "import glob"
   ]
  },
  {
   "cell_type": "code",
   "execution_count": 17,
   "metadata": {},
   "outputs": [],
   "source": [
    "# Set folder path\n",
    "folder_path = '../BoS (Business Objects) Raw Data Reports - Deidentified'\n",
    "exclude_file = 'TEMPLATE RAW Client Data Export v3_EE Workflow.xlsx'\n",
    "exclude_sheets = [\"Additional Info\", \"CARF WORKSHEET\"]"
   ]
  },
  {
   "cell_type": "code",
   "execution_count": 18,
   "metadata": {},
   "outputs": [
    {
     "name": "stdout",
     "output_type": "stream",
     "text": [
      "Unique EE Provider IDs across all files:\n",
      "Community Housing Network - Macomb County - MSDHA HOME-ARP: Macomb HCV Mobility Program(13790)\n",
      "Community Housing Network - Oakland County - Housing for Older Persons (HOP) HNP(13700)\n",
      "Community Housing Network - Oakland County - MSDHA HOME-ARP: Housing Navigation Program (HNP)(13639)\n",
      "Community Housing Network - Oakland County - MSDHA HOME-ARP: Oakland HCV Mobility Program(13783)\n",
      "Community Housing Network - Oakland County - Rapid Rehousing Program(10312)\n",
      "Community Housing Network - Oakland County - Rapid Rehousing Program2 (ORRH2)(11038)\n",
      "Community Housing Network – Oakland County – Housing Stability Services(13481)\n",
      "Community Housing Network, Inc. - Grafton SHU Oakland County (Macomb)(10824)\n",
      "Community Housing Network, Inc. - Jefferson Oaks SHU Oakland County(11485)\n",
      "Community Housing Network, Inc. - Macomb Co. - Chronically Homeless Leasing Assistance 1 (HUD)(3033)\n",
      "Community Housing Network, Inc. - Macomb Co. - Chronically Homeless Leasing Assistance 5(10327)\n",
      "Community Housing Network, Inc. - Macomb Co. - Chronically Homeless Leasing Assistance 6(11031)\n",
      "Community Housing Network, Inc. - Macomb Co. - Macomb Leasing Assistance Program 1(1372)\n",
      "Community Housing Network, Inc. - Macomb Co. - Macomb Leasing Assistance Program 6(8964)\n",
      "Community Housing Network, Inc. - Macomb Co. - Macomb Leasing Assistance Program 7(9643)\n",
      "Community Housing Network, Inc. - Macomb CoC -  RRH - MSHDA ESG(14415)\n",
      "Community Housing Network, Inc. - Oakland County - Chronically Homeless Leasing Assistance 1(1130)\n",
      "Community Housing Network, Inc. - Oakland County - Chronically Homeless Leasing Assistance 2(3030)\n",
      "Community Housing Network, Inc. - Oakland County - Chronically Homeless Leasing Assistance 5(10646)\n",
      "Community Housing Network, Inc. - Oakland County - Leasing Assistance Program (CG)(9182)\n",
      "Community Housing Network, Inc. - Oakland County - Leasing Assistance Program 2(281)\n",
      "Community Housing Network, Inc. - Out Wayne - Chronically Homeless Leasing Assistance Program 1(11496)\n",
      "Community Housing Network, Inc. - Palmer Pointe SHU Oakland County(9249)\n",
      "Community Housing Network, Inc. - Unity Park SHU Oakland County - All Phases(10170)\n",
      "Community Housing Network, Inc. Macomb CoC - Prescreening and Referrals(13082)\n",
      "Community Housing Network, Inc. – Erin Park SHU – Macomb CoC(12859)\n",
      "HARA - Oakland County - Community Housing Network - MSDHA ESG 2016-Present - Prevention(10988)\n",
      "HARA - Oakland County - Community Housing Network - MSDHA ESG 2016-Present - RRH(10989)\n",
      "MDHHS - Community Housing Network - Macomb CoC - PATH - Services Only(11694)\n",
      "MDHHS - Community Housing Network - Macomb CoC - PATH Outreach Only(11690)\n",
      "MDHHS - Community Housing Network - Oakland CoC - PATH - Services Only(10545)\n",
      "MDHHS - Community Housing Network - Oakland CoC - PATH Outreach Only(1493)\n",
      "MDHHS - Community Housing Network, Inc. - Oakland CoC - Shelter Plus Care Program(3056)\n",
      "XXXCLOSED 2024 - Community Housing Network - Macomb Co. - MSHDA ESG FY22 - Prevention(13571)\n",
      "XXXCLOSED2023 - Oakland County - Community Housing Network - CHID ESG Prevention (HPRP)(12114)\n",
      "XXXCLOSED2024 - Community Housing Network, Inc. - Macomb Co. - Macomb Leasing Assistance Program 2(3032)\n"
     ]
    }
   ],
   "source": [
    "# Store unique values\n",
    "ee_provider_ids = set()\n",
    "\n",
    "# Find all .xlsx files except the TEMPLATE\n",
    "xlsx_files = glob.glob(os.path.join(folder_path, '*.xlsx'))\n",
    "xlsx_files = [f for f in xlsx_files if not f.endswith(exclude_file)]\n",
    "\n",
    "for file_path in xlsx_files:\n",
    "    try:\n",
    "        xls = pd.ExcelFile(file_path)\n",
    "        for sheet in xls.sheet_names:\n",
    "            if sheet not in exclude_sheets:\n",
    "                try:\n",
    "                    df = xls.parse(sheet)\n",
    "                    if \"EE Provider ID\" in df.columns:\n",
    "                        ee_provider_ids.update(df[\"EE Provider ID\"].dropna().unique())\n",
    "                except Exception as e:\n",
    "                    print(f\"Error reading sheet '{sheet}' in file '{file_path}': {e}\")\n",
    "    except Exception as e:\n",
    "        print(f\"Error opening file '{file_path}': {e}\")\n",
    "\n",
    "# Display results\n",
    "print(\"Unique EE Provider IDs across all files:\")\n",
    "for val in sorted(ee_provider_ids):\n",
    "    print(val)"
   ]
  },
  {
   "cell_type": "code",
   "execution_count": 19,
   "metadata": {},
   "outputs": [
    {
     "name": "stdout",
     "output_type": "stream",
     "text": [
      "\n",
      "Total unique EE Provider IDs: 36\n"
     ]
    }
   ],
   "source": [
    "print(f\"\\nTotal unique EE Provider IDs: {len(ee_provider_ids)}\")"
   ]
  },
  {
   "cell_type": "code",
   "execution_count": null,
   "metadata": {},
   "outputs": [],
   "source": []
  }
 ],
 "metadata": {
  "kernelspec": {
   "display_name": "venv",
   "language": "python",
   "name": "python3"
  },
  "language_info": {
   "codemirror_mode": {
    "name": "ipython",
    "version": 3
   },
   "file_extension": ".py",
   "mimetype": "text/x-python",
   "name": "python",
   "nbconvert_exporter": "python",
   "pygments_lexer": "ipython3",
   "version": "3.13.2"
  }
 },
 "nbformat": 4,
 "nbformat_minor": 2
}
