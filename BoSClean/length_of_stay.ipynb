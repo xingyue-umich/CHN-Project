{
 "cells": [
  {
   "cell_type": "markdown",
   "metadata": {},
   "source": [
    "# IMPORTS AND SETUP"
   ]
  },
  {
   "cell_type": "code",
   "execution_count": 2,
   "metadata": {},
   "outputs": [],
   "source": [
    "import pandas as pd  # For data manipulation and analysis, including working with DataFrames\n",
    "import openpyxl as openxyl  # For reading and writing Excel files in .xlsx format\n",
    "import os  # For interacting with the operating system, such as checking file existence\n",
    "from datetime import datetime # For working with dates and times"
   ]
  },
  {
   "cell_type": "code",
   "execution_count": 3,
   "metadata": {},
   "outputs": [],
   "source": [
    "\n",
    "# We define the folder path where our Excel files are stored\n",
    "folder_path = \"BoS (Business Objects) Raw Data Reports - Deidentified\""
   ]
  },
  {
   "cell_type": "code",
   "execution_count": null,
   "metadata": {},
   "outputs": [
    {
     "name": "stdout",
     "output_type": "stream",
     "text": [
      "Processing file: OC PATH RAW Client Data Export v3_EE Workflow.xlsx (Program ID: OC PATH)\n",
      "Created length_of_stay_OC PATH.xlsx\n",
      "Processing file: MC PATH RAW Client Data Export v3_EE Workflow.xlsx (Program ID: MC PATH)\n",
      "Created length_of_stay_MC PATH.xlsx\n",
      "Processing file: SPC RAW Client Data Export v3_EE Workflow.xlsx (Program ID: SPC)\n",
      "Created length_of_stay_SPC.xlsx\n",
      "Processing file: 8319 RAW Client Data Export v3_EE Workflow.xlsx (Program ID: 8319)\n",
      "Created length_of_stay_8319.xlsx\n",
      "Skipping template file: TEMPLATE RAW Client Data Export v3_EE Workflow.xlsx\n",
      "Processing file: Erin Park RAW Client Data Export v3_EE Workflow.xlsx (Program ID: Erin Park)\n",
      "Created length_of_stay_Erin Park.xlsx\n",
      "Processing file: 143 RAW Client Data Export v3_EE Workflow.xlsx (Program ID: 143)\n",
      "Created length_of_stay_143.xlsx\n",
      "Processing file: 11495 RAW Client Data Export v3_EE Workflow.xlsx (Program ID: 11495)\n",
      "Created length_of_stay_11495.xlsx\n",
      "Processing file: 1371 FINAL RAW Client Data Export v3_EE Workflow.xlsx (Program ID: 1371 FINAL)\n",
      "Created length_of_stay_1371 FINAL.xlsx\n"
     ]
    }
   ],
   "source": [
    "# Initialize an empty list to store all processed datasets\n",
    "all_datasets = []\n",
    "\n",
    "# Process each file in the directory\n",
    "for file in os.listdir(folder_path):\n",
    "    # Skip template files - this checks for any file with \"TEMPLATE\" in the name\n",
    "    if \"TEMPLATE\" in file.upper():\n",
    "        print(f\"Skipping template file: {file}\")\n",
    "        continue\n",
    "        \n",
    "    # Only process Excel files\n",
    "    if file.endswith(\".xlsx\"):\n",
    "        try:\n",
    "            # Construct the full file path\n",
    "            file_path = os.path.join(folder_path, file)\n",
    "            \n",
    "            # Extract program ID from filename - adjust this based on your naming convention\n",
    "            # This assumes filenames like \"143 RAW Client Data Export v3_EE Workflow.xlsx\"\n",
    "            program_id = file.split(\" RAW\")[0]\n",
    "            \n",
    "            print(f\"Processing file: {file} (Program ID: {program_id})\")\n",
    "            \n",
    "            # Read the Excel file - the relevant data is in the \"ENTRY-EXIT\" sheet\n",
    "            data_df = pd.read_excel(file_path, sheet_name=\"ENTRY-EXIT\")\n",
    "            \n",
    "            # Process date columns to datetime format\n",
    "            data_df['Entry Date'] = pd.to_datetime(data_df['Entry Date'], errors='coerce')\n",
    "            data_df['Exit Date'] = pd.to_datetime(data_df['Exit Date'], errors='coerce')\n",
    "            \n",
    "            # Handle missing exit dates with a default value (in this case, the end date of the reporting period)\n",
    "            default_exit_date = pd.to_datetime('09/30/2024 02:00:00')\n",
    "            data_df['Exit Date'] = data_df['Exit Date'].fillna(default_exit_date)\n",
    "            \n",
    "            # Calculate Length of Stay in days\n",
    "            data_df['Length of Stay'] = (data_df['Exit Date'] - data_df['Entry Date']).dt.days\n",
    "            \n",
    "            # Create new dataset with the columns we need\n",
    "            new_dataset = pd.DataFrame({\n",
    "                'Provider ID': data_df['EE Provider ID'],\n",
    "                'Length of Stay': data_df['Length of Stay'],\n",
    "                'Program': program_id\n",
    "            })\n",
    "            \n",
    "            # Save individual program dataset\n",
    "            output_path = f\"./{program_id}.xlsx\" # Save in the current directory\n",
    "            new_dataset.to_excel(output_path, index=False)\n",
    "            print(f\"Created length_of_stay_{program_id}.xlsx\")\n",
    "            \n",
    "            # Add to our collection for the combined file\n",
    "            all_datasets.append(new_dataset)\n",
    "            \n",
    "        except Exception as e:\n",
    "            print(f\"Error processing file {file}: {e}\")"
   ]
  },
  {
   "cell_type": "code",
   "execution_count": 5,
   "metadata": {},
   "outputs": [
    {
     "name": "stdout",
     "output_type": "stream",
     "text": [
      "Created combined file: length_of_stay_all_programs.xlsx\n"
     ]
    }
   ],
   "source": [
    "# Combine all datasets into one file\n",
    "if all_datasets:\n",
    "    combined_dataset = pd.concat(all_datasets, ignore_index=True) \n",
    "    combined_path = \"./length_of_stay_all_programs.xlsx\"\n",
    "    combined_dataset.to_excel(combined_path, index=False)\n",
    "    print(\"Created combined file: length_of_stay_all_programs.xlsx\")\n",
    "else:\n",
    "    print(\"No datasets were successfully processed.\")"
   ]
  }
 ],
 "metadata": {
  "kernelspec": {
   "display_name": "Python 3",
   "language": "python",
   "name": "python3"
  },
  "language_info": {
   "codemirror_mode": {
    "name": "ipython",
    "version": 3
   },
   "file_extension": ".py",
   "mimetype": "text/x-python",
   "name": "python",
   "nbconvert_exporter": "python",
   "pygments_lexer": "ipython3",
   "version": "3.12.5"
  }
 },
 "nbformat": 4,
 "nbformat_minor": 2
}
