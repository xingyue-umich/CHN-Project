{
 "cells": [
  {
   "cell_type": "code",
   "execution_count": null,
   "metadata": {},
   "outputs": [],
   "source": [
    "import pandas as pd\n",
    "import openpyxl as openxyl"
   ]
  },
  {
   "cell_type": "code",
   "execution_count": null,
   "metadata": {},
   "outputs": [],
   "source": [
    "# # Load data specifically from the ENTRY-EXIT sheet\n",
    "# data_143_df = pd.read_excel(\n",
    "#     \"/Users/natika/Downloads/past semesters/CHN-Project/BoS (Business Objects) Raw Data Reports - Deidentified/143 RAW Client Data Export v3_EE Workflow.xlsx\", \n",
    "#     sheet_name=\"ENTRY-EXIT\"\n",
    "# )\n",
    "\n",
    "# # Print columns to verify the data\n",
    "# print(data_143_df.columns)"
   ]
  },
  {
   "cell_type": "code",
   "execution_count": null,
   "metadata": {},
   "outputs": [],
   "source": [
    "# # Convert date columns to datetime format\n",
    "# data_143_df['Entry Date'] = pd.to_datetime(data_143_df['Entry Date'], errors='coerce')\n",
    "# data_143_df['Exit Date'] = pd.to_datetime(data_143_df['Exit Date'], errors='coerce')\n",
    "\n",
    "# # Fill missing Exit Date values with 09/30/2024\n",
    "# default_exit_date = pd.to_datetime('09/30/2024 02:00:00')\n",
    "# data_143_df['Exit Date'] = data_143_df['Exit Date'].fillna(default_exit_date)\n",
    "\n",
    "# # Calculate the difference in days\n",
    "# data_143_df['Length of Stay'] = (data_143_df['Exit Date'] - data_143_df['Entry Date']).dt.days\n",
    "\n",
    "# # Display the first few rows of the DataFrame with the new column\n",
    "# print(data_143_df[['Entry Date', 'Exit Date', 'Length of Stay']].head())"
   ]
  },
  {
   "cell_type": "code",
   "execution_count": 14,
   "metadata": {},
   "outputs": [],
   "source": [
    "\n",
    "# Base directory\n",
    "base_dir = \"/Users/natika/Downloads/past semesters/CHN-Project/BoS (Business Objects) Raw Data Reports - Deidentified/\""
   ]
  },
  {
   "cell_type": "code",
   "execution_count": 17,
   "metadata": {},
   "outputs": [
    {
     "name": "stdout",
     "output_type": "stream",
     "text": [
      "Created length_of_stay_143.xlsx\n",
      "Created length_of_stay_1371 FINAL.xlsx\n",
      "Created length_of_stay_8319.xlsx\n",
      "Created length_of_stay_11495.xlsx\n",
      "Created length_of_stay_Erin Park.xlsx\n",
      "Created length_of_stay_MC PATH.xlsx\n",
      "Created length_of_stay_OC PATH.xlsx\n",
      "Created length_of_stay_SPC.xlsx\n",
      "Created combined file: length_of_stay_all_programs.xlsx\n"
     ]
    }
   ],
   "source": [
    "\n",
    "import os\n",
    "\n",
    "# List of program IDs to process\n",
    "program_ids = [\"143\", \"1371 FINAL\", \"8319\", \"11495\", \"Erin Park\", \"MC PATH\", \"OC PATH\", \"SPC\"]  \n",
    "\n",
    "# Initialize an empty list to store all processed datasets\n",
    "all_datasets = []\n",
    "\n",
    "# List of program IDs to process\n",
    "program_ids = [\"143\", \"1371 FINAL\", \"8319\", \"11495\", \"Erin Park\", \"MC PATH\", \"OC PATH\", \"SPC\"]\n",
    "\n",
    "# Initialize an empty list to store all processed datasets\n",
    "all_datasets = []\n",
    "\n",
    "# Process each program\n",
    "for program_id in program_ids:\n",
    "    # Construct file path\n",
    "    file_path = f\"{base_dir}{program_id} RAW Client Data Export v3_EE Workflow.xlsx\"\n",
    "    \n",
    "    # Skip if filename contains the word \"TEMPLATE\"\n",
    "    if \"TEMPLATE\" in file_path.upper():\n",
    "        print(f\"Skipping template file: {file_path}\")\n",
    "        continue\n",
    "     # Verify that the file exists\n",
    "    if not os.path.exists(file_path):\n",
    "        print(f\"Warning: File not found for program {program_id}: {file_path}\")\n",
    "        continue\n",
    "    \n",
    "    try:\n",
    "        # Load data\n",
    "        data_df = pd.read_excel(file_path, sheet_name=\"ENTRY-EXIT\")\n",
    "        \n",
    "        # Convert date columns to datetime\n",
    "        data_df['Entry Date'] = pd.to_datetime(data_df['Entry Date'], errors='coerce')\n",
    "        data_df['Exit Date'] = pd.to_datetime(data_df['Exit Date'], errors='coerce')\n",
    "        \n",
    "        # Fill missing Exit Date values\n",
    "        default_exit_date = pd.to_datetime('09/30/2024 02:00:00')\n",
    "        data_df['Exit Date'] = data_df['Exit Date'].fillna(default_exit_date)\n",
    "        \n",
    "        # Calculate Length of Stay\n",
    "        data_df['Length of Stay'] = (data_df['Exit Date'] - data_df['Entry Date']).dt.days\n",
    "        \n",
    "        # Create new dataset\n",
    "        new_dataset = pd.DataFrame({\n",
    "            'Length of Stay': data_df['EE Provider ID'],\n",
    "            'Count': data_df['Length of Stay'],\n",
    "            'Program': program_id\n",
    "        })\n",
    "        \n",
    "        # Save individual dataset\n",
    "        new_dataset.to_excel(f\"/Users/natika/Downloads/past semesters/CHN-Project/length_of_stay_{program_id}.xlsx\", index=False)\n",
    "        print(f\"Created length_of_stay_{program_id}.xlsx\")\n",
    "        \n",
    "        # Add to our collection of all datasets\n",
    "        all_datasets.append(new_dataset)\n",
    "        \n",
    "    except Exception as e:\n",
    "        print(f\"Error processing program {program_id}: {e}\")\n",
    "\n",
    "# Combine all datasets into one giant file\n",
    "if all_datasets:\n",
    "    combined_dataset_LOS = pd.concat(all_datasets, ignore_index=True)\n",
    "    combined_dataset_LOS.to_excel(\"/Users/natika/Downloads/past semesters/CHN-Project/length_of_stay_all_programs.xlsx\", index=False)\n",
    "    print(\"Created combined file: length_of_stay_all_programs.xlsx\")\n",
    "else:\n",
    "    print(\"No datasets were successfully processed.\")"
   ]
  }
 ],
 "metadata": {
  "kernelspec": {
   "display_name": "Python 3",
   "language": "python",
   "name": "python3"
  },
  "language_info": {
   "codemirror_mode": {
    "name": "ipython",
    "version": 3
   },
   "file_extension": ".py",
   "mimetype": "text/x-python",
   "name": "python",
   "nbconvert_exporter": "python",
   "pygments_lexer": "ipython3",
   "version": "3.12.5"
  }
 },
 "nbformat": 4,
 "nbformat_minor": 2
}
