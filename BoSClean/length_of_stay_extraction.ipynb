{
 "cells": [
  {
   "cell_type": "code",
   "execution_count": 3,
   "metadata": {},
   "outputs": [],
   "source": [
    "import pandas as pd\n",
    "import openpyxl as openxyl"
   ]
  },
  {
   "cell_type": "code",
   "execution_count": 8,
   "metadata": {},
   "outputs": [
    {
     "name": "stdout",
     "output_type": "stream",
     "text": [
      "Index(['EE Provider ID', 'Entry Date', 'Housing Move-in Date(12855)',\n",
      "       'Exit Date', 'Destination', 'Reason for Leaving', 'Entry Exit Type',\n",
      "       'Entry Exit Date Added', 'Entry Exit User Creating',\n",
      "       'Entry Exit Date Updated', 'Entry Exit User Updating'],\n",
      "      dtype='object')\n"
     ]
    }
   ],
   "source": [
    "# Load data specifically from the ENTRY-EXIT sheet\n",
    "data_143_df = pd.read_excel(\n",
    "    \"/Users/natika/Downloads/past semesters/CHN-Project/BoS (Business Objects) Raw Data Reports - Deidentified/143 RAW Client Data Export v3_EE Workflow.xlsx\", \n",
    "    sheet_name=\"ENTRY-EXIT\"\n",
    ")\n",
    "\n",
    "# Print columns to verify the data\n",
    "print(data_143_df.columns)"
   ]
  },
  {
   "cell_type": "code",
   "execution_count": 9,
   "metadata": {},
   "outputs": [
    {
     "name": "stdout",
     "output_type": "stream",
     "text": [
      "           Entry Date Housing Move-in Date(12855)  Length of Stay\n",
      "0 2024-08-26 02:00:00         2024-10-18 12:00:00            53.0\n",
      "1 2024-08-26 02:00:00         2024-10-18 12:00:00            53.0\n",
      "2 2024-08-26 02:00:00         2024-10-18 12:00:00            53.0\n",
      "3 2024-08-16 02:00:00         2024-10-17 12:00:00            62.0\n",
      "4 2024-06-10 02:00:00         2024-10-16 12:00:00           128.0\n"
     ]
    }
   ],
   "source": [
    "# Convert date columns to datetime format\n",
    "data_143_df['Entry Date'] = pd.to_datetime(data_143_df['Entry Date'], errors='coerce')\n",
    "data_143_df['Housing Move-in Date(12855)'] = pd.to_datetime(data_143_df['Housing Move-in Date(12855)'], errors='coerce')\n",
    "\n",
    "# Calculate the difference in days\n",
    "data_143_df['Length of Stay'] = (data_143_df['Housing Move-in Date(12855)'] - data_143_df['Entry Date']).dt.days\n",
    "\n",
    "# Display the first few rows of the DataFrame with the new column\n",
    "print(data_143_df[['Entry Date', 'Housing Move-in Date(12855)', 'Length of Stay']].head())"
   ]
  },
  {
   "cell_type": "code",
   "execution_count": 12,
   "metadata": {},
   "outputs": [
    {
     "name": "stdout",
     "output_type": "stream",
     "text": [
      "New dataset saved to: /Users/natika/Downloads/past semesters/CHN-Project/length_of_stay_143.xlsx\n",
      "                                      Length of Stay  Count Program\n",
      "0  Community Housing Network - Oakland County - R...   53.0     143\n",
      "1  Community Housing Network - Oakland County - R...   53.0     143\n",
      "2  Community Housing Network - Oakland County - R...   53.0     143\n",
      "3  Community Housing Network - Oakland County - R...   62.0     143\n",
      "4  Community Housing Network - Oakland County - R...  128.0     143\n"
     ]
    }
   ],
   "source": [
    "# Create the new dataset with the three required columns\n",
    "new_dataset = pd.DataFrame({\n",
    "    'Length of Stay': data_143_df['EE Provider ID'],\n",
    "    'Count': data_143_df['Length of Stay'],\n",
    "    'Program': '143'  # Set all values to '143'\n",
    "})\n",
    "\n",
    "# Save the new dataset as an Excel file\n",
    "output_file_path = \"/Users/natika/Downloads/past semesters/CHN-Project/length_of_stay_143.xlsx\"\n",
    "new_dataset.to_excel(output_file_path, index=False)\n",
    "\n",
    "print(f\"New dataset saved to: {output_file_path}\")\n",
    "print(new_dataset.head())  # Display the first few rows of the new dataset"
   ]
  }
 ],
 "metadata": {
  "kernelspec": {
   "display_name": "Python 3",
   "language": "python",
   "name": "python3"
  },
  "language_info": {
   "codemirror_mode": {
    "name": "ipython",
    "version": 3
   },
   "file_extension": ".py",
   "mimetype": "text/x-python",
   "name": "python",
   "nbconvert_exporter": "python",
   "pygments_lexer": "ipython3",
   "version": "3.12.5"
  }
 },
 "nbformat": 4,
 "nbformat_minor": 2
}
