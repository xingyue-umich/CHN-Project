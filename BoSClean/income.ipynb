{
 "cells": [
  {
   "cell_type": "code",
   "execution_count": 32,
   "metadata": {},
   "outputs": [],
   "source": [
    "import pandas as pd\n",
    "import os\n",
    "import openpyxl\n",
    "from IdMapping import clean_provider_ids"
   ]
  },
  {
   "cell_type": "code",
   "execution_count": 33,
   "metadata": {},
   "outputs": [],
   "source": [
    "# Define the path to the Excel file\n",
    "folder_path = \"../BoS (Business Objects) Raw Data Reports - Deidentified\"\n",
    "file_name = \"143 RAW Client Data Export v3_EE Workflow.xlsx\"\n",
    "file_path = os.path.join(folder_path, file_name)"
   ]
  },
  {
   "cell_type": "code",
   "execution_count": 34,
   "metadata": {},
   "outputs": [
    {
     "data": {
      "text/html": [
       "<div>\n",
       "<style scoped>\n",
       "    .dataframe tbody tr th:only-of-type {\n",
       "        vertical-align: middle;\n",
       "    }\n",
       "\n",
       "    .dataframe tbody tr th {\n",
       "        vertical-align: top;\n",
       "    }\n",
       "\n",
       "    .dataframe thead th {\n",
       "        text-align: right;\n",
       "    }\n",
       "</style>\n",
       "<table border=\"1\" class=\"dataframe\">\n",
       "  <thead>\n",
       "    <tr style=\"text-align: right;\">\n",
       "      <th></th>\n",
       "      <th>EE Provider ID</th>\n",
       "      <th>Receiving Income (Entry)</th>\n",
       "      <th>Source of Income (Entry)</th>\n",
       "      <th>Monthly Income (Start)</th>\n",
       "      <th>Income Start Date (Entry)</th>\n",
       "      <th>Income End Date (Entry)</th>\n",
       "      <th>Provider (140-provider)</th>\n",
       "      <th>Date Added (140-date_added)</th>\n",
       "      <th>Provider Abbrev</th>\n",
       "      <th>Provider Tree</th>\n",
       "    </tr>\n",
       "  </thead>\n",
       "  <tbody>\n",
       "    <tr>\n",
       "      <th>0</th>\n",
       "      <td>Community Housing Network, Inc. - Grafton SHU ...</td>\n",
       "      <td>Yes</td>\n",
       "      <td>SSDI (HUD)</td>\n",
       "      <td>912.0</td>\n",
       "      <td>2015-12-01 12:00:00</td>\n",
       "      <td>NaT</td>\n",
       "      <td>Community Housing Network, Inc. - Grafton SHU ...</td>\n",
       "      <td>2022-01-22 13:01:14.907</td>\n",
       "      <td>Grafton SHU</td>\n",
       "      <td>143</td>\n",
       "    </tr>\n",
       "    <tr>\n",
       "      <th>1</th>\n",
       "      <td>Community Housing Network, Inc. - Grafton SHU ...</td>\n",
       "      <td>Yes</td>\n",
       "      <td>SSDI (HUD)</td>\n",
       "      <td>85.0</td>\n",
       "      <td>2015-12-01 12:00:00</td>\n",
       "      <td>NaT</td>\n",
       "      <td>Community Housing Network, Inc. - Grafton SHU ...</td>\n",
       "      <td>2022-01-22 13:06:17.519</td>\n",
       "      <td>Grafton SHU</td>\n",
       "      <td>143</td>\n",
       "    </tr>\n",
       "    <tr>\n",
       "      <th>2</th>\n",
       "      <td>Community Housing Network, Inc. - Grafton SHU ...</td>\n",
       "      <td>Yes</td>\n",
       "      <td>SSDI (HUD)</td>\n",
       "      <td>85.0</td>\n",
       "      <td>2015-12-01 12:00:00</td>\n",
       "      <td>NaT</td>\n",
       "      <td>Community Housing Network, Inc. - Grafton SHU ...</td>\n",
       "      <td>2022-01-22 13:08:01.373</td>\n",
       "      <td>Grafton SHU</td>\n",
       "      <td>143</td>\n",
       "    </tr>\n",
       "    <tr>\n",
       "      <th>3</th>\n",
       "      <td>Community Housing Network, Inc. - Grafton SHU ...</td>\n",
       "      <td>Yes</td>\n",
       "      <td>SSDI (HUD)</td>\n",
       "      <td>85.0</td>\n",
       "      <td>2015-12-01 12:00:00</td>\n",
       "      <td>NaT</td>\n",
       "      <td>Community Housing Network, Inc. - Grafton SHU ...</td>\n",
       "      <td>2022-01-22 13:09:25.614</td>\n",
       "      <td>Grafton SHU</td>\n",
       "      <td>143</td>\n",
       "    </tr>\n",
       "    <tr>\n",
       "      <th>4</th>\n",
       "      <td>Community Housing Network, Inc. - Grafton SHU ...</td>\n",
       "      <td>No</td>\n",
       "      <td>Alimony or Other Spousal Support (HUD)</td>\n",
       "      <td>NaN</td>\n",
       "      <td>2015-12-01 12:00:00</td>\n",
       "      <td>NaT</td>\n",
       "      <td>XXXCLOSED2017Lighthouse of Oakland County - Oa...</td>\n",
       "      <td>2016-02-02 19:29:55.917</td>\n",
       "      <td>Grafton SHU</td>\n",
       "      <td>143</td>\n",
       "    </tr>\n",
       "  </tbody>\n",
       "</table>\n",
       "</div>"
      ],
      "text/plain": [
       "                                      EE Provider ID Receiving Income (Entry)  \\\n",
       "0  Community Housing Network, Inc. - Grafton SHU ...                      Yes   \n",
       "1  Community Housing Network, Inc. - Grafton SHU ...                      Yes   \n",
       "2  Community Housing Network, Inc. - Grafton SHU ...                      Yes   \n",
       "3  Community Housing Network, Inc. - Grafton SHU ...                      Yes   \n",
       "4  Community Housing Network, Inc. - Grafton SHU ...                       No   \n",
       "\n",
       "                 Source of Income (Entry)  Monthly Income (Start)  \\\n",
       "0                              SSDI (HUD)                   912.0   \n",
       "1                              SSDI (HUD)                    85.0   \n",
       "2                              SSDI (HUD)                    85.0   \n",
       "3                              SSDI (HUD)                    85.0   \n",
       "4  Alimony or Other Spousal Support (HUD)                     NaN   \n",
       "\n",
       "  Income Start Date (Entry) Income End Date (Entry)  \\\n",
       "0       2015-12-01 12:00:00                     NaT   \n",
       "1       2015-12-01 12:00:00                     NaT   \n",
       "2       2015-12-01 12:00:00                     NaT   \n",
       "3       2015-12-01 12:00:00                     NaT   \n",
       "4       2015-12-01 12:00:00                     NaT   \n",
       "\n",
       "                             Provider (140-provider)  \\\n",
       "0  Community Housing Network, Inc. - Grafton SHU ...   \n",
       "1  Community Housing Network, Inc. - Grafton SHU ...   \n",
       "2  Community Housing Network, Inc. - Grafton SHU ...   \n",
       "3  Community Housing Network, Inc. - Grafton SHU ...   \n",
       "4  XXXCLOSED2017Lighthouse of Oakland County - Oa...   \n",
       "\n",
       "  Date Added (140-date_added) Provider Abbrev Provider Tree  \n",
       "0     2022-01-22 13:01:14.907     Grafton SHU           143  \n",
       "1     2022-01-22 13:06:17.519     Grafton SHU           143  \n",
       "2     2022-01-22 13:08:01.373     Grafton SHU           143  \n",
       "3     2022-01-22 13:09:25.614     Grafton SHU           143  \n",
       "4     2016-02-02 19:29:55.917     Grafton SHU           143  "
      ]
     },
     "execution_count": 34,
     "metadata": {},
     "output_type": "execute_result"
    }
   ],
   "source": [
    "income_ent = pd.read_excel(file_path, sheet_name='INCOME ENT')\n",
    "income_ext = pd.read_excel(file_path, sheet_name='INCOME EXT')\n",
    "# Clean EE Provider ID\n",
    "income_ent = clean_provider_ids(income_ent)\n",
    "income_ext = clean_provider_ids(income_ext)\n",
    "income_ent.head()"
   ]
  },
  {
   "cell_type": "code",
   "execution_count": 35,
   "metadata": {},
   "outputs": [
    {
     "data": {
      "text/plain": [
       "117800"
      ]
     },
     "execution_count": 35,
     "metadata": {},
     "output_type": "execute_result"
    }
   ],
   "source": [
    "income_ent.size"
   ]
  },
  {
   "cell_type": "code",
   "execution_count": 36,
   "metadata": {},
   "outputs": [
    {
     "data": {
      "text/plain": [
       "125520"
      ]
     },
     "execution_count": 36,
     "metadata": {},
     "output_type": "execute_result"
    }
   ],
   "source": [
    "income_ext.size"
   ]
  },
  {
   "cell_type": "code",
   "execution_count": 37,
   "metadata": {},
   "outputs": [],
   "source": [
    "start_date = pd.to_datetime('10/11/2023', format='%m/%d/%Y')\n",
    "end_date = pd.to_datetime('10/10/2024', format='%m/%d/%Y')"
   ]
  },
  {
   "cell_type": "code",
   "execution_count": 38,
   "metadata": {},
   "outputs": [],
   "source": [
    "# converting the date columns to datetime format and filtering the data based on the date range\n",
    "income_ent['Income Start Date (Entry)'] = pd.to_datetime(income_ent['Income Start Date (Entry)'], format='%m/%d/%Y', errors='coerce')\n",
    "income_ent = income_ent[(income_ent['Income Start Date (Entry)'] >= start_date) & (income_ent['Income Start Date (Entry)'] <= end_date)]\n",
    "\n",
    "income_ext['Income Start Date (Exit)'] = pd.to_datetime(income_ext['Income Start Date (Exit)'], format='%m/%d/%Y', errors='coerce')\n",
    "income_ext = income_ext[(income_ext['Income Start Date (Exit)'] >= start_date) & (income_ext['Income Start Date (Exit)'] <= end_date)]"
   ]
  },
  {
   "cell_type": "code",
   "execution_count": 39,
   "metadata": {},
   "outputs": [
    {
     "data": {
      "text/plain": [
       "26730"
      ]
     },
     "execution_count": 39,
     "metadata": {},
     "output_type": "execute_result"
    }
   ],
   "source": [
    "income_ent.size"
   ]
  },
  {
   "cell_type": "code",
   "execution_count": 40,
   "metadata": {},
   "outputs": [
    {
     "data": {
      "text/plain": [
       "31120"
      ]
     },
     "execution_count": 40,
     "metadata": {},
     "output_type": "execute_result"
    }
   ],
   "source": [
    "income_ext.size"
   ]
  },
  {
   "cell_type": "code",
   "execution_count": 41,
   "metadata": {},
   "outputs": [],
   "source": [
    "# --- Group and calculate % of 'Yes' for ENTRY ---\n",
    "grouped_ent = (\n",
    "    income_ent\n",
    "    .groupby([\"Provider Abbrev\", \"Provider Tree\"])[\"Receiving Income (Entry)\"]\n",
    "    .value_counts(normalize=True)  # Get proportions\n",
    "    .rename(\"Percent\")  # Rename column\n",
    "    .reset_index()\n",
    ")\n",
    "\n",
    "# --- Group and calculate % of 'Yes' for EXIT ---\n",
    "grouped_ext = (\n",
    "    income_ext\n",
    "    .groupby([\"Provider Abbrev\", \"Provider Tree\"])[\"Receiving Income (Exit)\"]\n",
    "    .value_counts(normalize=True)\n",
    "    .rename(\"Percent\")\n",
    "    .reset_index()\n",
    ")"
   ]
  },
  {
   "cell_type": "code",
   "execution_count": 42,
   "metadata": {},
   "outputs": [
    {
     "data": {
      "text/html": [
       "<div>\n",
       "<style scoped>\n",
       "    .dataframe tbody tr th:only-of-type {\n",
       "        vertical-align: middle;\n",
       "    }\n",
       "\n",
       "    .dataframe tbody tr th {\n",
       "        vertical-align: top;\n",
       "    }\n",
       "\n",
       "    .dataframe thead th {\n",
       "        text-align: right;\n",
       "    }\n",
       "</style>\n",
       "<table border=\"1\" class=\"dataframe\">\n",
       "  <thead>\n",
       "    <tr style=\"text-align: right;\">\n",
       "      <th></th>\n",
       "      <th>Provider Abbrev</th>\n",
       "      <th>Provider Tree</th>\n",
       "      <th>Receiving Income</th>\n",
       "      <th>Percent</th>\n",
       "      <th>Assessment Stage</th>\n",
       "    </tr>\n",
       "  </thead>\n",
       "  <tbody>\n",
       "    <tr>\n",
       "      <th>0</th>\n",
       "      <td>Grafton SHU</td>\n",
       "      <td>143</td>\n",
       "      <td>Yes</td>\n",
       "      <td>2.051282</td>\n",
       "      <td>Entry</td>\n",
       "    </tr>\n",
       "    <tr>\n",
       "      <th>1</th>\n",
       "      <td>Jefferson Oaks SHU</td>\n",
       "      <td>143</td>\n",
       "      <td>Yes</td>\n",
       "      <td>1.459854</td>\n",
       "      <td>Entry</td>\n",
       "    </tr>\n",
       "    <tr>\n",
       "      <th>2</th>\n",
       "      <td>OCHLAP1</td>\n",
       "      <td>143</td>\n",
       "      <td>Yes</td>\n",
       "      <td>12.500000</td>\n",
       "      <td>Entry</td>\n",
       "    </tr>\n",
       "    <tr>\n",
       "      <th>3</th>\n",
       "      <td>OLAP CG</td>\n",
       "      <td>143</td>\n",
       "      <td>Yes</td>\n",
       "      <td>6.140351</td>\n",
       "      <td>Entry</td>\n",
       "    </tr>\n",
       "    <tr>\n",
       "      <th>4</th>\n",
       "      <td>OLAP2</td>\n",
       "      <td>143</td>\n",
       "      <td>Yes</td>\n",
       "      <td>7.594937</td>\n",
       "      <td>Entry</td>\n",
       "    </tr>\n",
       "  </tbody>\n",
       "</table>\n",
       "</div>"
      ],
      "text/plain": [
       "      Provider Abbrev Provider Tree Receiving Income    Percent  \\\n",
       "0         Grafton SHU           143              Yes   2.051282   \n",
       "1  Jefferson Oaks SHU           143              Yes   1.459854   \n",
       "2             OCHLAP1           143              Yes  12.500000   \n",
       "3             OLAP CG           143              Yes   6.140351   \n",
       "4               OLAP2           143              Yes   7.594937   \n",
       "\n",
       "  Assessment Stage  \n",
       "0            Entry  \n",
       "1            Entry  \n",
       "2            Entry  \n",
       "3            Entry  \n",
       "4            Entry  "
      ]
     },
     "execution_count": 42,
     "metadata": {},
     "output_type": "execute_result"
    }
   ],
   "source": [
    "# Keep only 'Yes' rows, rename for consistency, and add assessment stage\n",
    "grouped_ent = grouped_ent[grouped_ent[\"Receiving Income (Entry)\"] == \"Yes\"]\n",
    "grouped_ent = grouped_ent.rename(columns={\"Receiving Income (Entry)\": \"Receiving Income\"})\n",
    "grouped_ent[\"Percent\"] = grouped_ent[\"Percent\"] * 100\n",
    "grouped_ent[\"Assessment Stage\"] = \"Entry\"\n",
    "\n",
    "grouped_ext = grouped_ext[grouped_ext[\"Receiving Income (Exit)\"] == \"Yes\"]\n",
    "grouped_ext = grouped_ext.rename(columns={\"Receiving Income (Exit)\": \"Receiving Income\"})\n",
    "grouped_ext[\"Percent\"] = grouped_ext[\"Percent\"] * 100\n",
    "grouped_ext[\"Assessment Stage\"] = \"Exit\"\n",
    "\n",
    "# Combine both groups\n",
    "combined = pd.concat([grouped_ent, grouped_ext], ignore_index=True)\n",
    "combined.to_excel(\"income_summary_by_provider.xlsx\", index=False)\n",
    "combined.head()"
   ]
  },
  {
   "cell_type": "markdown",
   "metadata": {},
   "source": []
  },
  {
   "cell_type": "code",
   "execution_count": 11,
   "metadata": {},
   "outputs": [],
   "source": [
    "def income_counts_entry_and_exit(folder_path, start_date, end_date):\n",
    "    \"\"\"\n",
    "    This function filters the income at entry and exit data based on the date range provided. It creates\n",
    "    a dataframe with the counts of 'Yes' and 'No' values for each program at entry and exit.\n",
    "    The function also prints the value counts for each program and saves the results to an excel file.\n",
    "    \"\"\"\n",
    "    results = [] # Store all the rows\n",
    "\n",
    "    #Loop through all Excel files in the folder\n",
    "    for file in os.listdir(folder_path):\n",
    "        if file == \"TEMPLATE RAW Client Data Export v3_EE Workflow.xlsx\":\n",
    "            continue\n",
    "\n",
    "        if file.endswith(\".xlsx\"):\n",
    "            file_path = os.path.join(folder_path, file)\n",
    "            program_name = file.split(\" \")[0]  # Extract 'Program' from filename\n",
    "\n",
    "        try:\n",
    "            income_ent = pd.read_excel(file_path, sheet_name='INCOME ENT')\n",
    "            income_ext = pd.read_excel(file_path, sheet_name='INCOME EXT')\n",
    "        except Exception as e:\n",
    "            print(f\"Error reading sheets from {file}: {e}\")\n",
    "            continue\n",
    "\n",
    "        #converting the date columns to datetime format and filtering the data based on the date range\n",
    "        income_ent['Income Start Date (Entry)'] = pd.to_datetime(income_ent['Income Start Date (Entry)'], format='%m/%d/%Y', errors='coerce')\n",
    "        filtered_income_ent = income_ent[(income_ent['Income Start Date (Entry)'] >= start_date) & (income_ent['Income Start Date (Entry)'] <= end_date)]\n",
    "\n",
    "        income_ext['Income Start Date (Exit)'] = pd.to_datetime(income_ext['Income Start Date (Exit)'], format='%m/%d/%Y', errors='coerce')\n",
    "        filtered_income_ext = income_ext[(income_ext['Income Start Date (Exit)'] >= start_date) & (income_ext['Income Start Date (Exit)'] <= end_date)]\n",
    "\n",
    "        yes_count_entry = filtered_income_ent['Receiving Income (Entry)'].value_counts().get('Yes', 0)\n",
    "        no_count_entry = filtered_income_ent['Receiving Income (Entry)'].value_counts().get('No', 0)\n",
    "        empty_count_entry = filtered_income_ent['Receiving Income (Entry)'].value_counts().get('', 0)\n",
    "\n",
    "        yes_count_exit = filtered_income_ext['Receiving Income (Exit)'].value_counts().get('Yes', 0)\n",
    "        no_count_exit = filtered_income_ext['Receiving Income (Exit)'].value_counts().get('No', 0)\n",
    "        empty_count_exit = filtered_income_ext['Receiving Income (Exit)'].value_counts().get('', 0)\n",
    "        #add new rows to the income_count_results dataframe\n",
    "        new_entry_row_yes = ({'Receiving Income': 'Yes', 'Count': yes_count_entry, 'Assessment Stage': 'Entry', 'Program': program_name})\n",
    "        new_entry_row_no = ({'Receiving Income': 'No', 'Count': no_count_entry, 'Assessment Stage': 'Entry', 'Program': program_name})\n",
    "        new_entry_row_empty = ({'Receiving Income': 'Empty', 'Count': empty_count_entry, 'Assessment Stage': 'Entry', 'Program': program_name})\n",
    "\n",
    "        new_exit_row_yes = ({'Receiving Income': 'Yes', 'Count': yes_count_exit, 'Assessment Stage': 'Exit', 'Program': program_name})\n",
    "        new_exit_row_no = ({'Receiving Income': 'No', 'Count': no_count_exit, 'Assessment Stage': 'Exit', 'Program': program_name})\n",
    "        new_exit_row_empty = ({'Receiving Income': 'Empty', 'Count': empty_count_exit, 'Assessment Stage': 'Exit', 'Program': program_name})\n",
    "\n",
    "        #append the new rows to the results list\n",
    "        results.append(new_entry_row_yes)\n",
    "        results.append(new_entry_row_no)\n",
    "        results.append(new_entry_row_empty)\n",
    "        results.append(new_exit_row_yes)\n",
    "        results.append(new_exit_row_no)\n",
    "        results.append(new_exit_row_empty)\n",
    "\n",
    "        # Save results to excel\n",
    "        results_df = pd.DataFrame(results);\n",
    "        results_df.to_excel(\"./Income Counts Entry and Exit.xlsx\", index=False)\n"
   ]
  },
  {
   "cell_type": "code",
   "execution_count": 12,
   "metadata": {},
   "outputs": [],
   "source": [
    "income_counts_entry_and_exit(folder_path, start_date, end_date)"
   ]
  },
  {
   "cell_type": "code",
   "execution_count": 17,
   "metadata": {},
   "outputs": [],
   "source": [
    "def percent_noncash_yes(folder_path, start_date, end_date):\n",
    "    \"\"\"\n",
    "    This function filters the non-cash data based on the date range provided. It then creates an excel file with the percent of \n",
    "    participants who report receiving non-cash benefits at entry and exit.\n",
    "    \"\"\"\n",
    "    results = [] # Store all the rows\n",
    "\n",
    "    #Loop through all Excel files in the folder\n",
    "    for file in os.listdir(folder_path):\n",
    "        if file == \"TEMPLATE RAW Client Data Export v3_EE Workflow.xlsx\":\n",
    "            continue\n",
    "\n",
    "        if file.endswith(\".xlsx\"):\n",
    "            file_path = os.path.join(folder_path, file)\n",
    "            program_name = file.split(\" \")[0]  # Extract 'Program' from filename\n",
    "\n",
    "        try:\n",
    "            noncash_ent = pd.read_excel(file_path, sheet_name='NONCASH ENT')\n",
    "            noncash_ext = pd.read_excel(file_path, sheet_name='NONCASH EXIT')\n",
    "\n",
    "        except Exception as e:\n",
    "            print(f\"Error reading sheets from {file}: {e}\")\n",
    "            continue\n",
    "\n",
    "        #converting the date columns to datetime format and filtering the data based on the date range\n",
    "        noncash_ent['Non-Cash Start Date (Entry)'] = pd.to_datetime(noncash_ent['Non-Cash Start Date (Entry)'], format='%m/%d/%Y', errors='coerce')\n",
    "        filtered_noncash_ent = noncash_ent[(noncash_ent['Non-Cash Start Date (Entry)'] >= start_date) & (noncash_ent['Non-Cash Start Date (Entry)'] <= end_date)]\n",
    "\n",
    "        noncash_ext['Non-Cash Start Date (Exit)'] = pd.to_datetime(noncash_ext['Non-Cash Start Date (Exit)'], format='%m/%d/%Y', errors='coerce')\n",
    "        filtered_noncash_ext = noncash_ext[(noncash_ext['Non-Cash Start Date (Exit)'] >= start_date) & (noncash_ext['Non-Cash Start Date (Exit)'] <= end_date)]\n",
    "\n",
    "        #sum the number of 'Yes' values in the 'Receiving Income (Entry)' column and divide by the total number of rows in the filtered dataframe\n",
    "        total_rows_entry = len(filtered_noncash_ent)\n",
    "        if total_rows_entry > 0:\n",
    "            num_yes = filtered_noncash_ent['Receiving Benefit (Entry)'].value_counts().get('Yes', 0)\n",
    "            percent_income_at_entry = (num_yes / total_rows_entry * 100)\n",
    "        else:\n",
    "            percent_income_at_entry = 0\n",
    "\n",
    "        #repeat the same process for the 'Receiving Income (Exit)' column\n",
    "        total_rows_exit = len(filtered_noncash_ext)\n",
    "        if total_rows_exit > 0:\n",
    "            num_yes_exit = filtered_noncash_ext['Receiving Benefit (Exit)'].value_counts().get('Yes', 0)\n",
    "            percent_noncash_at_exit = (num_yes_exit / total_rows_exit * 100)\n",
    "        else:\n",
    "            percent_noncash_at_exit = 0\n",
    "\n",
    "        #add the program and percent_income_at_entry to the income_ent_results dataframe\n",
    "        new_entry_row = ({'Program': program_name, 'Percent non-cash at entry YES': round(percent_income_at_entry, 2), 'Percent non-cash at exit YES': round(percent_noncash_at_exit, 2)})\n",
    "        results.append(new_entry_row)\n",
    "\n",
    "        # Save results to excel\n",
    "        results_df = pd.DataFrame(results);\n",
    "        results_df.to_excel(\"./Percent Non-Cash Yes at Entry and Exit.xlsx\", index=False)"
   ]
  },
  {
   "cell_type": "code",
   "execution_count": 18,
   "metadata": {},
   "outputs": [],
   "source": [
    "percent_noncash_yes(folder_path, start_date, end_date)"
   ]
  },
  {
   "cell_type": "code",
   "execution_count": 23,
   "metadata": {},
   "outputs": [],
   "source": [
    "def calculate_median_income_everyone(folder_path, start_date, end_date):\n",
    "    \"\"\"This function calculates the median income at entry and exit for each program for everybody (those who report having\n",
    "    income at entry and exit, and those who don't). \n",
    "    It filters the data based on the date range provided and creates an excel file with the results.\"\"\"\n",
    "\n",
    "    results = []\n",
    "\n",
    "    #Loop through all Excel files in the folder\n",
    "    for file in os.listdir(folder_path):\n",
    "        if file == \"TEMPLATE RAW Client Data Export v3_EE Workflow.xlsx\":\n",
    "            continue\n",
    "\n",
    "        if file.endswith(\".xlsx\"):\n",
    "            file_path = os.path.join(folder_path, file)\n",
    "            program_name = file.split(\" \")[0]  # Extract 'Program' from filename\n",
    "\n",
    "        try:\n",
    "            income_ent = pd.read_excel(file_path, sheet_name='INCOME ENT')\n",
    "            income_ext = pd.read_excel(file_path, sheet_name='INCOME EXT')\n",
    "        except Exception as e:\n",
    "            print(f\"Error reading sheets from {file}: {e}\")\n",
    "            continue\n",
    "\n",
    "        #converting the date columns to datetime format and filtering the data based on the date range\n",
    "        income_ent['Income Start Date (Entry)'] = pd.to_datetime(income_ent['Income Start Date (Entry)'], format='%m/%d/%Y', errors='coerce')\n",
    "        filtered_income_ent = income_ent[(income_ent['Income Start Date (Entry)'] <= end_date) & (income_ent['Income Start Date (Entry)'] >= start_date)]\n",
    "\n",
    "        income_ext['Income Start Date (Exit)'] = pd.to_datetime(income_ext['Income Start Date (Exit)'], format='%m/%d/%Y', errors='coerce')\n",
    "        filtered_income_ext = income_ext[(income_ext['Income Start Date (Exit)'] <= end_date) & (income_ext['Income Start Date (Exit)'] >= start_date)]\n",
    "\n",
    "        #calculate median income at entry and exit\n",
    "        median_income_entry = filtered_income_ent['Monthly Income (Start)'].median()\n",
    "        median_income_exit = filtered_income_ext['Monthly Income Amount (Exit)'].median()\n",
    "\n",
    "        #add the program and median incomes to the results dataframe\n",
    "        new_entry_row = ({'Program': program_name, 'Median Income at Entry': median_income_entry, 'Median Income at Exit': median_income_exit})\n",
    "        results.append(new_entry_row)\n",
    "\n",
    "        # Save results to excel\n",
    "        results_df = pd.DataFrame(results);\n",
    "        results_df.to_excel(\"./Median Income Everyone.xlsx\", index=False)"
   ]
  },
  {
   "cell_type": "markdown",
   "metadata": {},
   "source": [
    "****NOTE**** that median income is for everyone by program. We have not done any filtering beyond aggregating by program. We could filter by only clients who do have income--but this wasn't asked of us yet. I also didn't want to make too many changes since we might have to make more changes this week to how we filter the data."
   ]
  },
  {
   "cell_type": "code",
   "execution_count": 24,
   "metadata": {},
   "outputs": [
    {
     "name": "stderr",
     "output_type": "stream",
     "text": [
      "c:\\Users\\alize\\AppData\\Local\\Programs\\Python\\Python311\\Lib\\site-packages\\numpy\\lib\\nanfunctions.py:1215: RuntimeWarning: Mean of empty slice\n",
      "  return np.nanmean(a, axis, out=out, keepdims=keepdims)\n"
     ]
    }
   ],
   "source": [
    "calculate_median_income_everyone(folder_path, start_date, end_date)"
   ]
  },
  {
   "cell_type": "markdown",
   "metadata": {},
   "source": [
    "To Do:\n",
    "- (COMPLETED, THOUGH LIKELY NOT ACCURATE. Create a function that calculates the median monthly income for each program a entry and exit\n",
    "- (COMPLETTED) Modify the percent_income_yes() function to create a new function that calculates the percent of program participants receiving non cash benefits. We should only need to update the sheet name and confirm the column name is the same in that sheet. \n",
    "\n",
    "If there is time:\n",
    "- Create a function that calculates the average monthly program at entry and exit\n",
    "- Create a function that sums the type of employment/income sources by program. This should be similar to the income_counts_entry_and_exit() function.\n",
    "- They requested a metric that showed new or increased income. This one is an optional request because they don't know if it can be calculated. \n"
   ]
  }
 ],
 "metadata": {
  "kernelspec": {
   "display_name": "venv",
   "language": "python",
   "name": "python3"
  },
  "language_info": {
   "codemirror_mode": {
    "name": "ipython",
    "version": 3
   },
   "file_extension": ".py",
   "mimetype": "text/x-python",
   "name": "python",
   "nbconvert_exporter": "python",
   "pygments_lexer": "ipython3",
   "version": "3.13.2"
  }
 },
 "nbformat": 4,
 "nbformat_minor": 2
}
